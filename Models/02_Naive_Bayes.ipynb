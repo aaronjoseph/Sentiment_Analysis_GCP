{
 "cells": [
  {
   "cell_type": "code",
   "execution_count": null,
   "id": "b6fd047c-fb2b-496b-a1c3-b24145329186",
   "metadata": {},
   "outputs": [],
   "source": [
    "import pandas as pd"
   ]
  },
  {
   "cell_type": "code",
   "execution_count": null,
   "id": "a7868ffb-25f3-430d-90b0-3377e5e5bf49",
   "metadata": {},
   "outputs": [],
   "source": [
    "df = pd.read_csv('../Data/reviews_training_26000.csv')\n",
    "val = pd.read_csv('../Data/reviews_test_4000.csv')"
   ]
  },
  {
   "cell_type": "code",
   "execution_count": null,
   "id": "74b3910e-4e80-4cc7-9a4a-c4abdfbef566",
   "metadata": {},
   "outputs": [],
   "source": [
    "df = df[['review','sentiment']]\n",
    "val = val[['review','sentiment']]"
   ]
  },
  {
   "cell_type": "code",
   "execution_count": null,
   "id": "23f49bf5-1619-4896-b94e-f602cbe6f674",
   "metadata": {},
   "outputs": [],
   "source": [
    "df['sentiment'] = df['sentiment'].map({'positive':1,'negative':0})"
   ]
  },
  {
   "cell_type": "markdown",
   "id": "4eaedc29-313b-4aac-b6bc-91533381247c",
   "metadata": {},
   "source": [
    "### EDA"
   ]
  },
  {
   "cell_type": "code",
   "execution_count": null,
   "id": "d4befb9d-50f0-4a75-8b3a-41a55b5ef132",
   "metadata": {},
   "outputs": [],
   "source": [
    "df['sentiment'].value_counts() #More Negative than positive"
   ]
  },
  {
   "cell_type": "code",
   "execution_count": null,
   "id": "94eb3d8b-fdd6-4841-a838-44de4ab97647",
   "metadata": {},
   "outputs": [],
   "source": [
    "val['sentiment'].value_counts() #Inverse in Test"
   ]
  },
  {
   "cell_type": "markdown",
   "id": "1cb5e4b9-617d-427e-bd0e-0649aede15a4",
   "metadata": {},
   "source": [
    "### Model Building"
   ]
  },
  {
   "cell_type": "code",
   "execution_count": null,
   "id": "54a786ab-94a3-40cc-b475-baa1c7c88373",
   "metadata": {},
   "outputs": [],
   "source": [
    "train = df[:int(0.8*len(df))]\n",
    "test = df[int(0.8*len(df)):]\n",
    "\n",
    "from sklearn.feature_extraction.text import CountVectorizer\n",
    "vectorizer = CountVectorizer()\n",
    "train_bow = vectorizer.fit_transform(train['review'])\n",
    "test_bow = vectorizer.transform(test['review'])\n",
    "\n",
    "from sklearn.naive_bayes import MultinomialNB\n",
    "model = MultinomialNB()\n",
    "model.fit(train_bow, train['sentiment'])\n",
    "\n",
    "predictions = model.predict(test_bow)\n",
    "\n",
    "from sklearn.metrics import accuracy_score\n",
    "accuracy = accuracy_score(test['sentiment'], predictions)\n",
    "print(\"Accuracy:\", accuracy)"
   ]
  },
  {
   "cell_type": "code",
   "execution_count": null,
   "id": "b503e2d0-8c00-4efb-8b00-5852714a41cf",
   "metadata": {},
   "outputs": [],
   "source": [
    "val_predictions = model.predict(vectorizer.transform(val['review']))"
   ]
  },
  {
   "cell_type": "code",
   "execution_count": null,
   "id": "57c78300-2798-4d23-a59a-4a313251f660",
   "metadata": {},
   "outputs": [],
   "source": [
    "val_predictions"
   ]
  },
  {
   "cell_type": "code",
   "execution_count": null,
   "id": "f6ba6094-5e39-4974-a284-e077cefeaabe",
   "metadata": {},
   "outputs": [],
   "source": [
    "val['sentiment_vector'] = val['sentiment'].map({'positive':1,'negative':0})"
   ]
  },
  {
   "cell_type": "code",
   "execution_count": null,
   "id": "8d6acfe9-0a00-4f11-9439-9b6bff6ca0db",
   "metadata": {},
   "outputs": [],
   "source": [
    "accuracy_score(val['sentiment_vector'],val_predictions)"
   ]
  },
  {
   "cell_type": "code",
   "execution_count": null,
   "id": "b12ab304",
   "metadata": {},
   "outputs": [],
   "source": [
    "from joblib import dump"
   ]
  },
  {
   "cell_type": "code",
   "execution_count": null,
   "id": "afec7ead",
   "metadata": {},
   "outputs": [],
   "source": [
    "dump(vectorizer,'Artifacts/count_vectorizer.joblib')\n",
    "dump(model,'Artifacts/model.joblib')"
   ]
  }
 ],
 "metadata": {
  "environment": {
   "kernel": "python3",
   "name": "common-cpu.m103",
   "type": "gcloud",
   "uri": "gcr.io/deeplearning-platform-release/base-cpu:m103"
  },
  "kernelspec": {
   "display_name": "base",
   "language": "python",
   "name": "python3"
  },
  "language_info": {
   "codemirror_mode": {
    "name": "ipython",
    "version": 3
   },
   "file_extension": ".py",
   "mimetype": "text/x-python",
   "name": "python",
   "nbconvert_exporter": "python",
   "pygments_lexer": "ipython3",
   "version": "3.9.13"
  },
  "vscode": {
   "interpreter": {
    "hash": "b338292ebfbba4efd1b0ccb231aef686b174b263dfac8f6c1f0631e73e21d78c"
   }
  }
 },
 "nbformat": 4,
 "nbformat_minor": 5
}
