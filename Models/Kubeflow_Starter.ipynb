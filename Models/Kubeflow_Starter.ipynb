{
 "cells": [
  {
   "cell_type": "code",
   "execution_count": 3,
   "id": "1cf6a168-2888-4806-92b9-4b7126316547",
   "metadata": {},
   "outputs": [],
   "source": [
    "from datetime import datetime\n",
    "import google.cloud.aiplatform as aip\n",
    "from google_cloud_pipeline_components import aiplatform as gcc_aip\n",
    "import kfp\n",
    "from kfp import dsl\n",
    "from kfp.v2 import compiler\n",
    "from kfp.v2.dsl import component\n",
    "import json\n",
    "from kfp.v2.google.client import AIPlatformClient\n",
    "from kfp.v2.dsl import (Artifact,\n",
    "                        ClassificationMetrics, \n",
    "                        component,\n",
    "                        Dataset,\n",
    "                        Input,\n",
    "                        Metrics,\n",
    "                        Model,\n",
    "                        Output\n",
    "                       )\n",
    "from typing import NamedTuple"
   ]
  },
  {
   "cell_type": "code",
   "execution_count": 14,
   "id": "c1328043-d31f-4adf-b312-7a8ce363f9fe",
   "metadata": {},
   "outputs": [
    {
     "name": "stdout",
     "output_type": "stream",
     "text": [
      "PROJECT_ID - master-314712\n",
      "PIPELINE_ROOT - gs://master_asia_east_2/Vertex_AI/Sentiment_Analysis/Pipeline_Root/Starter\n"
     ]
    }
   ],
   "source": [
    "# Pre-Configured Values\n",
    "Val = !gcloud config list --format 'value(core.project)'\n",
    "PROJECT_ID = Val[0]\n",
    "print(f\"PROJECT_ID - {PROJECT_ID}\")\n",
    "REGION = \"asia-east2\"\n",
    "TIMESTAMP = datetime.now().strftime(\"%Y%m%d%H%M%S\")\n",
    "SERVICE_ACCOUNT = \"terraform-sa@master-314712.iam.gserviceaccount.com\"\n",
    "BUCKET_NAME = \"gs://master_asia_east_2/Vertex_AI/Sentiment_Analysis\"\n",
    "PIPELINE_ROOT = f\"{BUCKET_NAME}/Pipeline_Root/Starter\"\n",
    "print(f\"PIPELINE_ROOT - {PIPELINE_ROOT}\")\n",
    "PIPELINE_JSON_FILE = \"Starter_Analysis.json\"\n",
    "PIPELINE_EXPERIMENT_NAME = \"Starter_Scoring_Pipeline\"+TIMESTAMP\n",
    "MODEL_DISPLAY_NAME = \"Sentiment_analysis\""
   ]
  },
  {
   "cell_type": "code",
   "execution_count": 15,
   "id": "d82a629f-0617-4078-87bc-4fb35ed4a412",
   "metadata": {},
   "outputs": [],
   "source": [
    "aip.init(project=PROJECT_ID, location=REGION, staging_bucket=BUCKET_NAME)"
   ]
  },
  {
   "cell_type": "code",
   "execution_count": null,
   "id": "1d74a9f4-964c-4ddd-bf8d-88e79e5ce771",
   "metadata": {},
   "outputs": [],
   "source": [
    "@component(base_image=\"gcr.io/ml-pipeline/google-cloud-pipeline-components:latest\",\n",
    "           packages_to_install = [\"pandas\"],          \n",
    "          )\n",
    "def bq_load(\n",
    "    train_data: Output[Dataset]\n",
    ") -> str:\n",
    "    import pandas\n",
    "    from google.cloud import bigquery\n",
    "    client = bigquery.Client(location=\"US\", project='hackteam-mythbusters1')\n",
    "    \n",
    "    query = \"\"\"\n",
    "    SELECT * FROM `hackteam-mythbusters1.covid_dataset.combined1`\n",
    "    \"\"\"\n",
    "    query_job = client.query(\n",
    "        query,\n",
    "        location=\"US\",\n",
    "    )\n",
    "\n",
    "    df = query_job.to_dataframe()\n",
    "    df.to_csv(train_data.path, index=False)\n",
    "    return(train_data.path.replace(\"/gcs/\", \"gs://\"))"
   ]
  },
  {
   "cell_type": "code",
   "execution_count": null,
   "id": "1a1068f5-be61-4a4e-b9d2-ac670d31d47d",
   "metadata": {},
   "outputs": [],
   "source": []
  },
  {
   "cell_type": "code",
   "execution_count": null,
   "id": "e75fced9-7ccb-44c6-a0b0-8cfb42eb188c",
   "metadata": {},
   "outputs": [],
   "source": []
  },
  {
   "cell_type": "code",
   "execution_count": null,
   "id": "4726637c-8111-4f60-9be9-fc2b504dd1ff",
   "metadata": {},
   "outputs": [],
   "source": []
  },
  {
   "cell_type": "code",
   "execution_count": null,
   "id": "49ddbdc3-5f1e-4a31-833e-78480b5e68be",
   "metadata": {},
   "outputs": [],
   "source": []
  }
 ],
 "metadata": {
  "environment": {
   "kernel": "python3",
   "name": "common-cpu.m103",
   "type": "gcloud",
   "uri": "gcr.io/deeplearning-platform-release/base-cpu:m103"
  },
  "kernelspec": {
   "display_name": "Python 3",
   "language": "python",
   "name": "python3"
  },
  "language_info": {
   "codemirror_mode": {
    "name": "ipython",
    "version": 3
   },
   "file_extension": ".py",
   "mimetype": "text/x-python",
   "name": "python",
   "nbconvert_exporter": "python",
   "pygments_lexer": "ipython3",
   "version": "3.7.12"
  }
 },
 "nbformat": 4,
 "nbformat_minor": 5
}
